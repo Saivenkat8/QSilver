{
 "cells": [
  {
   "cell_type": "markdown",
   "metadata": {},
   "source": [
    "<table align=\"left\"  width=\"100%\"> <tr>\n",
    "        <td  style=\"background-color:#ffffff;\">\n",
    "            <a href=\"http://qworld.lu.lv\" target=\"_blank\"><img src=\"..\\images\\qworld.jpg\" width=\"35%\" align=\"left\"> </a></td>\n",
    "        <td style=\"background-color:#ffffff;vertical-align:bottom;text-align:right;\">\n",
    "            prepared by Maksim Dimitrijev (<a href=\"http://qworld.lu.lv/index.php/qlatvia/\" target=\"_blank\">QLatvia</a>) \n",
    "        </td>        \n",
    "</tr></table>"
   ]
  },
  {
   "cell_type": "markdown",
   "metadata": {},
   "source": [
    "<table width=\"100%\"><tr><td style=\"color:#bbbbbb;background-color:#ffffff;font-size:11px;font-style:italic;text-align:right;\">This cell contains some macros. If there is a problem with displaying mathematical formulas, please run this cell to load these macros. </td></tr></table>\n",
    "$ \\newcommand{\\bra}[1]{\\langle #1|} $\n",
    "$ \\newcommand{\\ket}[1]{|#1\\rangle} $\n",
    "$ \\newcommand{\\braket}[2]{\\langle #1|#2\\rangle} $\n",
    "$ \\newcommand{\\dot}[2]{ #1 \\cdot #2} $\n",
    "$ \\newcommand{\\biginner}[2]{\\left\\langle #1,#2\\right\\rangle} $\n",
    "$ \\newcommand{\\mymatrix}[2]{\\left( \\begin{array}{#1} #2\\end{array} \\right)} $\n",
    "$ \\newcommand{\\myvector}[1]{\\mymatrix{c}{#1}} $\n",
    "$ \\newcommand{\\myrvector}[1]{\\mymatrix{r}{#1}} $\n",
    "$ \\newcommand{\\mypar}[1]{\\left( #1 \\right)} $\n",
    "$ \\newcommand{\\mybigpar}[1]{ \\Big( #1 \\Big)} $\n",
    "$ \\newcommand{\\sqrttwo}{\\frac{1}{\\sqrt{2}}} $\n",
    "$ \\newcommand{\\dsqrttwo}{\\dfrac{1}{\\sqrt{2}}} $\n",
    "$ \\newcommand{\\onehalf}{\\frac{1}{2}} $\n",
    "$ \\newcommand{\\donehalf}{\\dfrac{1}{2}} $\n",
    "$ \\newcommand{\\hadamard}{ \\mymatrix{rr}{ \\sqrttwo & \\sqrttwo \\\\ \\sqrttwo & -\\sqrttwo }} $\n",
    "$ \\newcommand{\\vzero}{\\myvector{1\\\\0}} $\n",
    "$ \\newcommand{\\vone}{\\myvector{0\\\\1}} $\n",
    "$ \\newcommand{\\stateplus}{\\myvector{ \\sqrttwo \\\\  \\sqrttwo } } $\n",
    "$ \\newcommand{\\stateminus}{ \\myrvector{ \\sqrttwo \\\\ -\\sqrttwo } } $\n",
    "$ \\newcommand{\\myarray}[2]{ \\begin{array}{#1}#2\\end{array}} $\n",
    "$ \\newcommand{\\X}{ \\mymatrix{cc}{0 & 1 \\\\ 1 & 0}  } $\n",
    "$ \\newcommand{\\Z}{ \\mymatrix{rr}{1 & 0 \\\\ 0 & -1}  } $\n",
    "$ \\newcommand{\\Htwo}{ \\mymatrix{rrrr}{ \\frac{1}{2} & \\frac{1}{2} & \\frac{1}{2} & \\frac{1}{2} \\\\ \\frac{1}{2} & -\\frac{1}{2} & \\frac{1}{2} & -\\frac{1}{2} \\\\ \\frac{1}{2} & \\frac{1}{2} & -\\frac{1}{2} & -\\frac{1}{2} \\\\ \\frac{1}{2} & -\\frac{1}{2} & -\\frac{1}{2} & \\frac{1}{2} } } $\n",
    "$ \\newcommand{\\CNOT}{ \\mymatrix{cccc}{1 & 0 & 0 & 0 \\\\ 0 & 1 & 0 & 0 \\\\ 0 & 0 & 0 & 1 \\\\ 0 & 0 & 1 & 0} } $\n",
    "$ \\newcommand{\\norm}[1]{ \\left\\lVert #1 \\right\\rVert } $\n",
    "$ \\newcommand{\\pstate}[1]{ \\lceil \\mspace{-1mu} #1 \\mspace{-1.5mu} \\rfloor } $\n",
    "$ \\newcommand{\\Y}{ \\mymatrix{rr}{0 & -i \\\\ i & 0} } $ \n",
    "$ \\newcommand{\\S}{ \\mymatrix{rr}{1 & 0 \\\\ 0 & i} } $ \n",
    "$ \\newcommand{\\T}{ \\mymatrix{rr}{1 & 0 \\\\ 0 & e^{i \\frac{\\pi}{4}}} } $ \n",
    "$ \\newcommand{\\Sdg}{ \\mymatrix{rr}{1 & 0 \\\\ 0 & -i} } $ \n",
    "$ \\newcommand{\\Tdg}{ \\mymatrix{rr}{1 & 0 \\\\ 0 & e^{-i \\frac{\\pi}{4}}} } $\n"
   ]
  },
  {
   "cell_type": "markdown",
   "metadata": {},
   "source": [
    "<h1> Quantum gates with complex numbers </h1>"
   ]
  },
  {
   "cell_type": "markdown",
   "metadata": {},
   "source": [
    "Now we will finally write some code to use quantum gates with complex numbers on qubits. We will begin with $Y$ operator, and $Y$-gate is called in a way similar to calling an $X$-gate."
   ]
  },
  {
   "cell_type": "code",
   "execution_count": 9,
   "metadata": {},
   "outputs": [
    {
     "name": "stdout",
     "output_type": "stream",
     "text": [
      "{'1': 10000}\n"
     ]
    },
    {
     "data": {
      "image/png": "[encoded data removed]",
      "text/plain": [
       "<Figure size 220.269x144.48 with 1 Axes>"
      ]
     },
     "execution_count": 9,
     "metadata": {},
     "output_type": "execute_result"
    }
   ],
   "source": [
    "from qiskit import QuantumRegister, ClassicalRegister, QuantumCircuit, execute, Aer\n",
    "\n",
    "qreg1 =  QuantumRegister(1)\n",
    "creg1 = ClassicalRegister(1)\n",
    "mycircuit1 = QuantumCircuit(qreg1,creg1)\n",
    "\n",
    "# apply y-gate\n",
    "mycircuit1.y(qreg1[0])\n",
    "\n",
    "mycircuit1.measure(qreg1,creg1)\n",
    "\n",
    "job = execute(mycircuit1,Aer.get_backend('qasm_simulator'),shots=10000)\n",
    "counts1 = job.result().get_counts(mycircuit1)\n",
    "print(counts1) # print the outcomes\n",
    "\n",
    "mycircuit1.draw(output='mpl')"
   ]
  },
  {
   "cell_type": "markdown",
   "metadata": {},
   "source": [
    "As we can see, the qubit, which was initially set to the state $\\ket{0}$ always outputs the state $\\ket{1}$, after applying $Y$-gate and measurement. Let's check the statevector simulator to see what state does the qubit have before the measurement."
   ]
  },
  {
   "cell_type": "code",
   "execution_count": 10,
   "metadata": {},
   "outputs": [
    {
     "name": "stdout",
     "output_type": "stream",
     "text": [
      "[0.-0.j 0.+1.j]\n"
     ]
    }
   ],
   "source": [
    "from qiskit import QuantumRegister, ClassicalRegister, QuantumCircuit, execute, Aer\n",
    "\n",
    "qreg2 =  QuantumRegister(1)\n",
    "creg2 = ClassicalRegister(1)\n",
    "mycircuit2 = QuantumCircuit(qreg2,creg2)\n",
    "\n",
    "# apply y-gate\n",
    "mycircuit2.y(qreg2[0])\n",
    "\n",
    "job = execute(mycircuit2,Aer.get_backend('statevector_simulator'))\n",
    "current_quantum_state=job.result().get_statevector(mycircuit2)\n",
    "print(current_quantum_state)"
   ]
  },
  {
   "cell_type": "markdown",
   "metadata": {},
   "source": [
    "The statevector confirms that the amplitude of the state $\\ket{0}$ is zero, and so we will observe only state $\\ket{1}$. Let's see what happens if we apply $Y$-gate to the qubit, which is in state $\\ket{1}$."
   ]
  },
  {
   "cell_type": "markdown",
   "metadata": {},
   "source": [
    "<h3> Task 1 </h3>\n",
    "\n",
    "Remember that $X$-gate flips the value of a qubit.\n",
    "\n",
    "Design a quantum circuit with a single qubit. Set the value of qubit to $ \\ket{1} $ by using $X$-gate. After that apply $Y$-gate and check the outcome on a statevector_simulator."
   ]
  },
  {
   "cell_type": "code",
   "execution_count": 11,
   "metadata": {},
   "outputs": [
    {
     "name": "stdout",
     "output_type": "stream",
     "text": [
      "[ 6.123234e-17-1.j -0.000000e+00+0.j]\n"
     ]
    }
   ],
   "source": [
    "from qiskit import QuantumRegister, ClassicalRegister, QuantumCircuit, execute, Aer\n",
    "\n",
    "qreg =  QuantumRegister(1)\n",
    "creg = ClassicalRegister(1)\n",
    "mycircuit = QuantumCircuit(qreg,creg)\n",
    "\n",
    "# apply x-gate\n",
    "mycircuit.x(qreg[0])\n",
    "\n",
    "# apply y-gate\n",
    "mycircuit.y(qreg[0])\n",
    "\n",
    "job = execute(mycircuit,Aer.get_backend('statevector_simulator'))\n",
    "current_quantum_state=job.result().get_statevector(mycircuit)\n",
    "print(current_quantum_state)"
   ]
  },
  {
   "cell_type": "markdown",
   "metadata": {},
   "source": [
    "<a href=\"C04_Quantum_Gates_With_Complex_Numbers_Solutions.ipynb#task1\">click for our solution</a>"
   ]
  },
  {
   "cell_type": "markdown",
   "metadata": {},
   "source": [
    "<h2> Phase gates </h2>\n",
    "\n",
    "Now we will observe the phase gates. Such gates do not change the probabilities of the states to be observed, but change the local phase. The simplest phase gate that we already know is $Z = \\Z$. Here are two famous phase operators that change the phase by smaller amount compared to the Z operator:\n",
    "\n",
    "$$\n",
    "S = \\S \\mbox{ and } T = \\T.\n",
    "$$\n",
    "\n",
    "The conjugate versions of these operators are\n",
    "\n",
    "$$\n",
    "S^{\\dagger} = \\Sdg \\mbox{ and } T^{\\dagger} = \\Tdg.\n",
    "$$\n",
    "\n",
    "As you can guess, in case of $Z$ operator its conjugate version is trivial: $Z = Z^{\\dagger}$.\n",
    "\n",
    "Since $i^2 = -1$, it is easy to see that $S^2 = Z$, or, in other words, $S = \\sqrt{Z}$."
   ]
  },
  {
   "cell_type": "markdown",
   "metadata": {},
   "source": [
    "<h3> Task 2 </h3>\n",
    "\n",
    "Find the relationship between the following operators:\n",
    "<ul>\n",
    "    <li>$S$ and $T$;</li>\n",
    "    <li>$Z$ and $T$.</li>\n",
    "</ul>"
   ]
  },
  {
   "cell_type": "markdown",
   "metadata": {},
   "source": [
    "<a href=\"C04_Quantum_Gates_With_Complex_Numbers_Solutions.ipynb#task2\">click for our solution</a>"
   ]
  },
  {
   "cell_type": "markdown",
   "metadata": {},
   "source": [
    "We will discuss the phase and phase gates in more details in the next notebooks. Now we will check the behavior of the gates with the code."
   ]
  },
  {
   "cell_type": "markdown",
   "metadata": {},
   "source": [
    "<h2> Phase gates in Qiskit </h2>\n",
    "\n",
    "The syntax of the mentioned phase gates are quite simple. One can guess the gate from the provided notations.\n",
    "\n",
    "    mycircuit.s(quantum_register)\n",
    "    mycircuit.t(quantum_register)\n",
    "    mycircuit.sdg(quantum_register)\n",
    "    mycircuit.tdg(quantum_register)\n",
    "\n",
    "Let's make a quantum circuit with 4 qubits and apply each of the gates - one for each qubit. Guess the outcome of the measurement."
   ]
  },
  {
   "cell_type": "code",
   "execution_count": 12,
   "metadata": {},
   "outputs": [
    {
     "name": "stdout",
     "output_type": "stream",
     "text": [
      "{'0000': 10000}\n"
     ]
    },
    {
     "data": {
      "image/png": "[encoded data removed]",
      "text/plain": [
       "<Figure size 414.14x325.08 with 1 Axes>"
      ]
     },
     "execution_count": 12,
     "metadata": {},
     "output_type": "execute_result"
    }
   ],
   "source": [
    "from qiskit import QuantumRegister, ClassicalRegister, QuantumCircuit, execute, Aer\n",
    "\n",
    "qreg3 =  QuantumRegister(4)\n",
    "creg3 = ClassicalRegister(4)\n",
    "mycircuit3 = QuantumCircuit(qreg3,creg3)\n",
    "\n",
    "mycircuit3.s(qreg3[0])\n",
    "mycircuit3.t(qreg3[1])\n",
    "mycircuit3.sdg(qreg3[2])\n",
    "mycircuit3.tdg(qreg3[3])\n",
    "\n",
    "mycircuit3.measure(qreg3,creg3)\n",
    "\n",
    "job = execute(mycircuit3,Aer.get_backend('qasm_simulator'),shots=10000)\n",
    "counts3 = job.result().get_counts(mycircuit3)\n",
    "print(counts3) # print the outcomes\n",
    "\n",
    "mycircuit3.draw(output='mpl')"
   ]
  },
  {
   "cell_type": "markdown",
   "metadata": {},
   "source": [
    "The output outcome should not be surprising, the change of phase did not change the probabilities. Now let's convince ourselves that this is also the case when our qubit is in superposition."
   ]
  },
  {
   "cell_type": "markdown",
   "metadata": {},
   "source": [
    "<h3> Task 3 </h3>\n",
    "\n",
    "For each one of the discussed 4 phase gates construct the following circuit:\n",
    "\n",
    "<ul>\n",
    "    <li>Create a circuit with one qubit,</li>\n",
    "    <li>apply Hadamard operator,</li>\n",
    "    <li>apply the corresponding phase operator,</li>\n",
    "    <li>make a measurement.</li>\n",
    "</ul>\n",
    "\n",
    "What is the measurement outcome in each case?"
   ]
  },
  {
   "cell_type": "code",
   "execution_count": 14,
   "metadata": {},
   "outputs": [
    {
     "name": "stdout",
     "output_type": "stream",
     "text": [
      "{'0': 519, '1': 481}\n"
     ]
    },
    {
     "data": {
      "image/png": "[encoded data removed]",
      "text/plain": [
       "<Figure size 280.323x144.48 with 1 Axes>"
      ]
     },
     "execution_count": 14,
     "metadata": {},
     "output_type": "execute_result"
    }
   ],
   "source": [
    "qreg = QuantumRegister(1)\n",
    "creg = ClassicalRegister(1)\n",
    "circuit = QuantumCircuit(qreg, creg)\n",
    "circuit.h(qreg[0])\n",
    "circuit.s(qreg[0])\n",
    "circuit.measure(qreg, creg)\n",
    "job = execute(circuit, Aer.get_backend('qasm_simulator'), shots=1000)\n",
    "counts = job.result().get_counts(circuit)\n",
    "print(counts)\n",
    "circuit.draw('mpl')"
   ]
  },
  {
   "cell_type": "code",
   "execution_count": 15,
   "metadata": {},
   "outputs": [
    {
     "name": "stdout",
     "output_type": "stream",
     "text": [
      "{'1': 517, '0': 483}\n"
     ]
    },
    {
     "data": {
      "image/png": "[encoded data removed]",
      "text/plain": [
       "<Figure size 293.159x144.48 with 1 Axes>"
      ]
     },
     "execution_count": 15,
     "metadata": {},
     "output_type": "execute_result"
    }
   ],
   "source": [
    "qreg = QuantumRegister(1)\n",
    "creg = ClassicalRegister(1)\n",
    "circuit = QuantumCircuit(qreg, creg)\n",
    "circuit.h(qreg[0])\n",
    "circuit.t(qreg[0])\n",
    "circuit.measure(qreg, creg)\n",
    "job = execute(circuit, Aer.get_backend('qasm_simulator'), shots=1000)\n",
    "counts = job.result().get_counts(circuit)\n",
    "print(counts)\n",
    "circuit.draw('mpl')"
   ]
  },
  {
   "cell_type": "code",
   "execution_count": 16,
   "metadata": {},
   "outputs": [
    {
     "name": "stdout",
     "output_type": "stream",
     "text": [
      "{'1': 516, '0': 484}\n"
     ]
    },
    {
     "data": {
      "image/png": "[encoded data removed]",
      "text/plain": [
       "<Figure size 293.304x144.48 with 1 Axes>"
      ]
     },
     "execution_count": 16,
     "metadata": {},
     "output_type": "execute_result"
    }
   ],
   "source": [
    "qreg = QuantumRegister(1)\n",
    "creg = ClassicalRegister(1)\n",
    "circuit = QuantumCircuit(qreg, creg)\n",
    "circuit.h(qreg[0])\n",
    "circuit.sdg(qreg[0])\n",
    "circuit.measure(qreg, creg)\n",
    "job = execute(circuit, Aer.get_backend('qasm_simulator'), shots=1000)\n",
    "counts = job.result().get_counts(circuit)\n",
    "print(counts)\n",
    "circuit.draw('mpl')"
   ]
  },
  {
   "cell_type": "code",
   "execution_count": 17,
   "metadata": {},
   "outputs": [
    {
     "name": "stdout",
     "output_type": "stream",
     "text": [
      "{'0': 502, '1': 498}\n"
     ]
    },
    {
     "data": {
      "image/png": "[encoded data removed]",
      "text/plain": [
       "<Figure size 293.595x144.48 with 1 Axes>"
      ]
     },
     "execution_count": 17,
     "metadata": {},
     "output_type": "execute_result"
    }
   ],
   "source": [
    "qreg = QuantumRegister(1)\n",
    "creg = ClassicalRegister(1)\n",
    "circuit = QuantumCircuit(qreg, creg)\n",
    "circuit.h(qreg[0])\n",
    "circuit.tdg(qreg[0])\n",
    "circuit.measure(qreg, creg)\n",
    "job = execute(circuit, Aer.get_backend('qasm_simulator'), shots=1000)\n",
    "counts = job.result().get_counts(circuit)\n",
    "print(counts)\n",
    "circuit.draw('mpl')"
   ]
  },
  {
   "cell_type": "markdown",
   "metadata": {},
   "source": [
    "<a href=\"C04_Quantum_Gates_With_Complex_Numbers_Solutions.ipynb#task3\">click for our solution</a>"
   ]
  },
  {
   "cell_type": "markdown",
   "metadata": {},
   "source": [
    "The phase gate applied between two Hadamard operators can make the difference. Remember what happens with the qubit in state $\\ket{0}$ after applying the following sequence: $HZH$ (if not, just write the code and check :) )?"
   ]
  },
  {
   "cell_type": "code",
   "execution_count": 32,
   "metadata": {},
   "outputs": [
    {
     "name": "stdout",
     "output_type": "stream",
     "text": [
      "{'1': 1000}\n"
     ]
    },
    {
     "data": {
      "image/png": "[encoded data removed]",
      "text/plain": [
       "<Figure size 366.485x144.48 with 1 Axes>"
      ]
     },
     "execution_count": 32,
     "metadata": {},
     "output_type": "execute_result"
    }
   ],
   "source": [
    "qreg = QuantumRegister(1)\n",
    "creg = ClassicalRegister(1)\n",
    "circuit = QuantumCircuit(qreg, creg)\n",
    "circuit.h(qreg[0])\n",
    "circuit.z(qreg[0])\n",
    "circuit.h(qreg[0])\n",
    "circuit.measure(qreg, creg)\n",
    "job = execute(circuit, Aer.get_backend('qasm_simulator'), shots=1000)\n",
    "counts = job.result().get_counts(circuit)\n",
    "print(counts)\n",
    "circuit.draw('mpl')"
   ]
  },
  {
   "cell_type": "markdown",
   "metadata": {},
   "source": [
    "<h3> Task 4 </h3>\n",
    "\n",
    "For each one of the discussed 4 phase gates construct the following circuit:\n",
    "\n",
    "<ul>\n",
    "    <li>Create a circuit with one qubit,</li>\n",
    "    <li>apply Hadamard operator,</li>\n",
    "    <li>apply the corresponding phase operator,</li>\n",
    "    <li>apply Hadamard operator,</li>\n",
    "    <li>make a measurement.</li>\n",
    "</ul>\n",
    "\n",
    "Guess the measurement outcome in each case before executing the code."
   ]
  },
  {
   "cell_type": "code",
   "execution_count": 20,
   "metadata": {},
   "outputs": [
    {
     "name": "stdout",
     "output_type": "stream",
     "text": [
      "{'0': 501, '1': 499}\n"
     ]
    },
    {
     "data": {
      "image/png": "[encoded data removed]",
      "text/plain": [
       "<Figure size 353.649x144.48 with 1 Axes>"
      ]
     },
     "execution_count": 20,
     "metadata": {},
     "output_type": "execute_result"
    }
   ],
   "source": [
    "qreg = QuantumRegister(1)\n",
    "creg = ClassicalRegister(1)\n",
    "circuit = QuantumCircuit(qreg, creg)\n",
    "circuit.h(qreg[0])\n",
    "circuit.s(qreg[0])\n",
    "circuit.h(qreg[0])\n",
    "circuit.measure(qreg, creg)\n",
    "job = execute(circuit, Aer.get_backend('qasm_simulator'), shots=1000)\n",
    "counts = job.result().get_counts(circuit)\n",
    "print(counts)\n",
    "circuit.draw('mpl')"
   ]
  },
  {
   "cell_type": "code",
   "execution_count": 21,
   "metadata": {},
   "outputs": [
    {
     "name": "stdout",
     "output_type": "stream",
     "text": [
      "{'0': 859, '1': 141}\n"
     ]
    },
    {
     "data": {
      "image/png": "[encoded data removed]",
      "text/plain": [
       "<Figure size 353.649x144.48 with 1 Axes>"
      ]
     },
     "execution_count": 21,
     "metadata": {},
     "output_type": "execute_result"
    }
   ],
   "source": [
    "qreg = QuantumRegister(1)\n",
    "creg = ClassicalRegister(1)\n",
    "circuit = QuantumCircuit(qreg, creg)\n",
    "circuit.h(qreg[0])\n",
    "circuit.t(qreg[0])\n",
    "circuit.h(qreg[0])\n",
    "circuit.measure(qreg, creg)\n",
    "job = execute(circuit, Aer.get_backend('qasm_simulator'), shots=1000)\n",
    "counts = job.result().get_counts(circuit)\n",
    "print(counts)\n",
    "circuit.draw('mpl')"
   ]
  },
  {
   "cell_type": "code",
   "execution_count": 22,
   "metadata": {},
   "outputs": [
    {
     "name": "stdout",
     "output_type": "stream",
     "text": [
      "{'0': 527, '1': 473}\n"
     ]
    },
    {
     "data": {
      "image/png": "[encoded data removed]",
      "text/plain": [
       "<Figure size 353.504x144.48 with 1 Axes>"
      ]
     },
     "execution_count": 22,
     "metadata": {},
     "output_type": "execute_result"
    }
   ],
   "source": [
    "qreg = QuantumRegister(1)\n",
    "creg = ClassicalRegister(1)\n",
    "circuit = QuantumCircuit(qreg, creg)\n",
    "circuit.h(qreg[0])\n",
    "circuit.sdg(qreg[0])\n",
    "circuit.h(qreg[0])\n",
    "circuit.measure(qreg, creg)\n",
    "job = execute(circuit, Aer.get_backend('qasm_simulator'), shots=1000)\n",
    "counts = job.result().get_counts(circuit)\n",
    "print(counts)\n",
    "circuit.draw('mpl')"
   ]
  },
  {
   "cell_type": "code",
   "execution_count": 23,
   "metadata": {},
   "outputs": [
    {
     "name": "stdout",
     "output_type": "stream",
     "text": [
      "{'0': 855, '1': 145}\n"
     ]
    },
    {
     "data": {
      "image/png": "[encoded data removed]",
      "text/plain": [
       "<Figure size 353.359x144.48 with 1 Axes>"
      ]
     },
     "execution_count": 23,
     "metadata": {},
     "output_type": "execute_result"
    }
   ],
   "source": [
    "qreg = QuantumRegister(1)\n",
    "creg = ClassicalRegister(1)\n",
    "circuit = QuantumCircuit(qreg, creg)\n",
    "circuit.h(qreg[0])\n",
    "circuit.tdg(qreg[0])\n",
    "circuit.h(qreg[0])\n",
    "circuit.measure(qreg, creg)\n",
    "job = execute(circuit, Aer.get_backend('qasm_simulator'), shots=1000)\n",
    "counts = job.result().get_counts(circuit)\n",
    "print(counts)\n",
    "circuit.draw('mpl')"
   ]
  },
  {
   "cell_type": "markdown",
   "metadata": {},
   "source": [
    "<a href=\"C04_Quantum_Gates_With_Complex_Numbers_Solutions.ipynb#task4\">click for our solution</a>"
   ]
  },
  {
   "cell_type": "markdown",
   "metadata": {},
   "source": [
    "Although $T^4 = Z$, the presence of just $T$-gate and $H$-gate gives very powerful tool for putting qubit into different states. We will cover this in more details when we check Bloch sphere. Let's just check how different number of applied operators $T$ and $H$ gives different measurement outcomes. In the following example, we apply the sequence of $T$-gate and $H$-gate for different number of times. Notice how different are the probabilities to observe states $\\ket{0}$ and $\\ket{1}$."
   ]
  },
  {
   "cell_type": "code",
   "execution_count": 24,
   "metadata": {},
   "outputs": [
    {
     "name": "stdout",
     "output_type": "stream",
     "text": [
      "gates applied 0 times, outcome: {'0': 10000}\n",
      " \n",
      "gates applied 1 times, outcome: {'0': 4904, '1': 5096}\n",
      " \n",
      "gates applied 2 times, outcome: {'0': 8517, '1': 1483}\n",
      " \n",
      "gates applied 3 times, outcome: {'0': 7484, '1': 2516}\n",
      " \n",
      "gates applied 4 times, outcome: {'0': 5619, '1': 4381}\n",
      " \n",
      "gates applied 5 times, outcome: {'0': 9806, '1': 194}\n",
      " \n",
      "gates applied 6 times, outcome: {'1': 5404, '0': 4596}\n",
      " \n",
      "gates applied 7 times, outcome: {'0': 9377, '1': 623}\n",
      " \n",
      "gates applied 8 times, outcome: {'0': 6416, '1': 3584}\n",
      " \n",
      "gates applied 9 times, outcome: {'0': 6632, '1': 3368}\n",
      " \n",
      "gates applied 10 times, outcome: {'0': 9147, '1': 853}\n",
      " \n",
      "gates applied 11 times, outcome: {'1': 5347, '0': 4653}\n",
      " \n",
      "gates applied 12 times, outcome: {'0': 9897, '1': 103}\n",
      " \n",
      "gates applied 13 times, outcome: {'1': 4457, '0': 5543}\n",
      " \n",
      "gates applied 14 times, outcome: {'0': 7829, '1': 2171}\n",
      " \n",
      "gates applied 15 times, outcome: {'0': 8259, '1': 1741}\n",
      " \n",
      "gates applied 16 times, outcome: {'1': 4907, '0': 5093}\n",
      " \n",
      "gates applied 17 times, outcome: {'0': 9980, '1': 20}\n",
      " \n",
      "gates applied 18 times, outcome: {'1': 5148, '0': 4852}\n",
      " \n",
      "gates applied 19 times, outcome: {'0': 8816, '1': 1184}\n",
      " \n",
      "gates applied 20 times, outcome: {'0': 7196, '1': 2804}\n",
      " \n",
      "gates applied 21 times, outcome: {'0': 5946, '1': 4054}\n",
      " \n",
      "gates applied 22 times, outcome: {'0': 9665, '1': 335}\n",
      " \n",
      "gates applied 23 times, outcome: {'0': 4631, '1': 5369}\n",
      " \n",
      "gates applied 24 times, outcome: {'0': 9575, '1': 425}\n",
      " \n"
     ]
    }
   ],
   "source": [
    "from qiskit import QuantumRegister, ClassicalRegister, QuantumCircuit, execute, Aer\n",
    "\n",
    "for i in range(25):\n",
    "    qreg1 =  QuantumRegister(1)\n",
    "    creg1 = ClassicalRegister(1)\n",
    "    mycircuit1 = QuantumCircuit(qreg1,creg1)\n",
    "    for j in range(i):\n",
    "        mycircuit1.t(qreg1[0])\n",
    "        mycircuit1.h(qreg1[0])\n",
    "    mycircuit1.measure(qreg1,creg1)\n",
    "\n",
    "    job = execute(mycircuit1,Aer.get_backend('qasm_simulator'),shots=10000)\n",
    "    counts1 = job.result().get_counts(mycircuit1)\n",
    "    print('gates applied',i,'times, outcome:',counts1) # print the outcomes\n",
    "    print(' ')"
   ]
  },
  {
   "cell_type": "markdown",
   "metadata": {},
   "source": [
    "<h3> Task 5 </h3>\n",
    "\n",
    "Repeat previous experiment for different number of $H$-gates and $T$-gates, but this time applying them in opposite order: first $H$ and then $T$."
   ]
  },
  {
   "cell_type": "code",
   "execution_count": 28,
   "metadata": {},
   "outputs": [
    {
     "name": "stdout",
     "output_type": "stream",
     "text": [
      "gates applied 0 times, outcome: {'0': 1000}\n",
      " \n",
      "gates applied 1 times, outcome: {'1': 477, '0': 523}\n",
      " \n",
      "gates applied 2 times, outcome: {'0': 852, '1': 148}\n",
      " \n",
      "gates applied 3 times, outcome: {'0': 758, '1': 242}\n",
      " \n",
      "gates applied 4 times, outcome: {'0': 585, '1': 415}\n",
      " \n",
      "gates applied 5 times, outcome: {'0': 978, '1': 22}\n",
      " \n",
      "gates applied 6 times, outcome: {'0': 466, '1': 534}\n",
      " \n",
      "gates applied 7 times, outcome: {'1': 60, '0': 940}\n",
      " \n",
      "gates applied 8 times, outcome: {'0': 622, '1': 378}\n",
      " \n",
      "gates applied 9 times, outcome: {'0': 701, '1': 299}\n",
      " \n",
      "gates applied 10 times, outcome: {'0': 925, '1': 75}\n",
      " \n",
      "gates applied 11 times, outcome: {'1': 529, '0': 471}\n",
      " \n",
      "gates applied 12 times, outcome: {'0': 984, '1': 16}\n",
      " \n",
      "gates applied 13 times, outcome: {'1': 460, '0': 540}\n",
      " \n",
      "gates applied 14 times, outcome: {'0': 775, '1': 225}\n",
      " \n",
      "gates applied 15 times, outcome: {'1': 168, '0': 832}\n",
      " \n",
      "gates applied 16 times, outcome: {'1': 481, '0': 519}\n",
      " \n",
      "gates applied 17 times, outcome: {'0': 997, '1': 3}\n",
      " \n",
      "gates applied 18 times, outcome: {'0': 504, '1': 496}\n",
      " \n",
      "gates applied 19 times, outcome: {'0': 868, '1': 132}\n",
      " \n",
      "gates applied 20 times, outcome: {'0': 718, '1': 282}\n",
      " \n",
      "gates applied 21 times, outcome: {'0': 613, '1': 387}\n",
      " \n",
      "gates applied 22 times, outcome: {'0': 968, '1': 32}\n",
      " \n",
      "gates applied 23 times, outcome: {'0': 477, '1': 523}\n",
      " \n",
      "gates applied 24 times, outcome: {'0': 958, '1': 42}\n",
      " \n"
     ]
    }
   ],
   "source": [
    "from qiskit import QuantumRegister, ClassicalRegister, QuantumCircuit, execute, Aer\n",
    "\n",
    "for i in range(25):\n",
    "    qreg1 =  QuantumRegister(1)\n",
    "    creg1 = ClassicalRegister(1)\n",
    "    mycircuit1 = QuantumCircuit(qreg1,creg1)\n",
    "    for j in range(i):\n",
    "        mycircuit1.h(qreg1[0])\n",
    "        mycircuit1.t(qreg1[0])\n",
    "    mycircuit1.measure(qreg1,creg1)\n",
    "\n",
    "    job = execute(mycircuit1,Aer.get_backend('qasm_simulator'),shots=1000)\n",
    "    counts1 = job.result().get_counts(mycircuit1)\n",
    "    print('gates applied',i,'times, outcome:',counts1) # print the outcomes\n",
    "    print(' ')"
   ]
  },
  {
   "cell_type": "markdown",
   "metadata": {},
   "source": [
    "<a href=\"C04_Quantum_Gates_With_Complex_Numbers_Solutions.ipynb#task5\">click for our solution</a>"
   ]
  },
  {
   "cell_type": "markdown",
   "metadata": {},
   "source": [
    "We will check one more combination of the gates - we will apply the sequence of $HTH$ for multiple times and will check the measurement outcomes."
   ]
  },
  {
   "cell_type": "code",
   "execution_count": 27,
   "metadata": {},
   "outputs": [
    {
     "name": "stdout",
     "output_type": "stream",
     "text": [
      "gates applied 0 times, outcome: {'0': 10000}\n",
      " \n",
      "gates applied 1 times, outcome: {'0': 8463, '1': 1537}\n",
      " \n",
      "gates applied 2 times, outcome: {'0': 5019, '1': 4981}\n",
      " \n",
      "gates applied 3 times, outcome: {'1': 8514, '0': 1486}\n",
      " \n",
      "gates applied 4 times, outcome: {'1': 10000}\n",
      " \n",
      "gates applied 5 times, outcome: {'1': 8589, '0': 1411}\n",
      " \n",
      "gates applied 6 times, outcome: {'0': 4997, '1': 5003}\n",
      " \n",
      "gates applied 7 times, outcome: {'0': 8534, '1': 1466}\n",
      " \n",
      "gates applied 8 times, outcome: {'0': 10000}\n",
      " \n",
      "gates applied 9 times, outcome: {'0': 8601, '1': 1399}\n",
      " \n",
      "gates applied 10 times, outcome: {'0': 5026, '1': 4974}\n",
      " \n",
      "gates applied 11 times, outcome: {'1': 8562, '0': 1438}\n",
      " \n",
      "gates applied 12 times, outcome: {'1': 10000}\n",
      " \n",
      "gates applied 13 times, outcome: {'1': 8510, '0': 1490}\n",
      " \n",
      "gates applied 14 times, outcome: {'0': 4999, '1': 5001}\n",
      " \n",
      "gates applied 15 times, outcome: {'1': 1494, '0': 8506}\n",
      " \n",
      "gates applied 16 times, outcome: {'0': 10000}\n",
      " \n",
      "gates applied 17 times, outcome: {'0': 8488, '1': 1512}\n",
      " \n",
      "gates applied 18 times, outcome: {'0': 4961, '1': 5039}\n",
      " \n",
      "gates applied 19 times, outcome: {'1': 8541, '0': 1459}\n",
      " \n",
      "gates applied 20 times, outcome: {'1': 10000}\n",
      " \n",
      "gates applied 21 times, outcome: {'1': 8521, '0': 1479}\n",
      " \n",
      "gates applied 22 times, outcome: {'1': 4921, '0': 5079}\n",
      " \n",
      "gates applied 23 times, outcome: {'0': 8544, '1': 1456}\n",
      " \n",
      "gates applied 24 times, outcome: {'0': 10000}\n",
      " \n"
     ]
    }
   ],
   "source": [
    "from qiskit import QuantumRegister, ClassicalRegister, QuantumCircuit, execute, Aer\n",
    "\n",
    "for i in range(25):\n",
    "    qreg1 =  QuantumRegister(1)\n",
    "    creg1 = ClassicalRegister(1)\n",
    "    mycircuit1 = QuantumCircuit(qreg1,creg1)\n",
    "    for j in range(i):\n",
    "        mycircuit1.h(qreg1[0])\n",
    "        mycircuit1.t(qreg1[0])\n",
    "        mycircuit1.h(qreg1[0])\n",
    "    mycircuit1.measure(qreg1,creg1)\n",
    "\n",
    "    job = execute(mycircuit1,Aer.get_backend('qasm_simulator'),shots=10000)\n",
    "    counts1 = job.result().get_counts(mycircuit1)\n",
    "    print('gates applied',i,'times, outcome:',counts1) # print the outcomes\n",
    "    print(' ')"
   ]
  },
  {
   "cell_type": "markdown",
   "metadata": {},
   "source": [
    "<h3> Task 6 (discussion) </h3>\n",
    "\n",
    "Why do the outcomes repeat after several iterations?"
   ]
  },
  {
   "cell_type": "markdown",
   "metadata": {},
   "source": [
    "<a href=\"C04_Quantum_Gates_With_Complex_Numbers_Solutions.ipynb#task6\">click for our solution</a>"
   ]
  }
 ],
 "metadata": {
  "kernelspec": {
   "display_name": "Python 3",
   "language": "python",
   "name": "python3"
  },
  "language_info": {
   "codemirror_mode": {
    "name": "ipython",
    "version": 3
   },
   "file_extension": ".py",
   "mimetype": "text/x-python",
   "name": "python",
   "nbconvert_exporter": "python",
   "pygments_lexer": "ipython3",
   "version": "3.8.8"
  }
 },
 "nbformat": 4,
 "nbformat_minor": 2
}
