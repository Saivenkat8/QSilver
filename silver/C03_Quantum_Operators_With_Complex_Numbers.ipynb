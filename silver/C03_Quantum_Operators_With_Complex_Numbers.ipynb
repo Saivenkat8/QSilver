{
 "cells": [
  {
   "cell_type": "markdown",
   "metadata": {},
   "source": [
    "<table align=\"left\"  width=\"100%\"> <tr>\n",
    "        <td  style=\"background-color:#ffffff;\">\n",
    "            <a href=\"http://qworld.lu.lv\" target=\"_blank\"><img src=\"..\\images\\qworld.jpg\" width=\"35%\" align=\"left\"> </a></td>\n",
    "        <td style=\"background-color:#ffffff;vertical-align:bottom;text-align:right;\">\n",
    "            prepared by Maksim Dimitrijev (<a href=\"http://qworld.lu.lv/index.php/qlatvia/\" target=\"_blank\">QLatvia</a>)\n",
    "        </td>        \n",
    "</tr></table>"
   ]
  },
  {
   "cell_type": "markdown",
   "metadata": {},
   "source": [
    "<table width=\"100%\"><tr><td style=\"color:#bbbbbb;background-color:#ffffff;font-size:11px;font-style:italic;text-align:right;\">This cell contains some macros. If there is a problem with displaying mathematical formulas, please run this cell to load these macros. </td></tr></table>\n",
    "$ \\newcommand{\\bra}[1]{\\langle #1|} $\n",
    "$ \\newcommand{\\ket}[1]{|#1\\rangle} $\n",
    "$ \\newcommand{\\braket}[2]{\\langle #1|#2\\rangle} $\n",
    "$ \\newcommand{\\dot}[2]{ #1 \\cdot #2} $\n",
    "$ \\newcommand{\\biginner}[2]{\\left\\langle #1,#2\\right\\rangle} $\n",
    "$ \\newcommand{\\mymatrix}[2]{\\left( \\begin{array}{#1} #2\\end{array} \\right)} $\n",
    "$ \\newcommand{\\myvector}[1]{\\mymatrix{c}{#1}} $\n",
    "$ \\newcommand{\\myrvector}[1]{\\mymatrix{r}{#1}} $\n",
    "$ \\newcommand{\\mypar}[1]{\\left( #1 \\right)} $\n",
    "$ \\newcommand{\\mybigpar}[1]{ \\Big( #1 \\Big)} $\n",
    "$ \\newcommand{\\sqrttwo}{\\frac{1}{\\sqrt{2}}} $\n",
    "$ \\newcommand{\\dsqrttwo}{\\dfrac{1}{\\sqrt{2}}} $\n",
    "$ \\newcommand{\\onehalf}{\\frac{1}{2}} $\n",
    "$ \\newcommand{\\donehalf}{\\dfrac{1}{2}} $\n",
    "$ \\newcommand{\\hadamard}{ \\mymatrix{rr}{ \\sqrttwo & \\sqrttwo \\\\ \\sqrttwo & -\\sqrttwo }} $\n",
    "$ \\newcommand{\\vzero}{\\myvector{1\\\\0}} $\n",
    "$ \\newcommand{\\vone}{\\myvector{0\\\\1}} $\n",
    "$ \\newcommand{\\stateplus}{\\myvector{ \\sqrttwo \\\\  \\sqrttwo } } $\n",
    "$ \\newcommand{\\stateminus}{ \\myrvector{ \\sqrttwo \\\\ -\\sqrttwo } } $\n",
    "$ \\newcommand{\\myarray}[2]{ \\begin{array}{#1}#2\\end{array}} $\n",
    "$ \\newcommand{\\X}{ \\mymatrix{cc}{0 & 1 \\\\ 1 & 0}  } $\n",
    "$ \\newcommand{\\Z}{ \\mymatrix{rr}{1 & 0 \\\\ 0 & -1}  } $\n",
    "$ \\newcommand{\\Htwo}{ \\mymatrix{rrrr}{ \\frac{1}{2} & \\frac{1}{2} & \\frac{1}{2} & \\frac{1}{2} \\\\ \\frac{1}{2} & -\\frac{1}{2} & \\frac{1}{2} & -\\frac{1}{2} \\\\ \\frac{1}{2} & \\frac{1}{2} & -\\frac{1}{2} & -\\frac{1}{2} \\\\ \\frac{1}{2} & -\\frac{1}{2} & -\\frac{1}{2} & \\frac{1}{2} } } $\n",
    "$ \\newcommand{\\CNOT}{ \\mymatrix{cccc}{1 & 0 & 0 & 0 \\\\ 0 & 1 & 0 & 0 \\\\ 0 & 0 & 0 & 1 \\\\ 0 & 0 & 1 & 0} } $\n",
    "$ \\newcommand{\\norm}[1]{ \\left\\lVert #1 \\right\\rVert } $\n",
    "$ \\newcommand{\\pstate}[1]{ \\lceil \\mspace{-1mu} #1 \\mspace{-1.5mu} \\rfloor } $\n",
    "$ \\newcommand{\\Y}{ \\mymatrix{rr}{0 & -i \\\\ i & 0} } $ $ \\newcommand{\\S}{ \\mymatrix{rr}{1 & 0 \\\\ 0 & i} } $ \n",
    "$ \\newcommand{\\T}{ \\mymatrix{rr}{1 & 0 \\\\ 0 & e^{i \\frac{pi}{4}}} } $ \n",
    "$ \\newcommand{\\Sdg}{ \\mymatrix{rr}{1 & 0 \\\\ 0 & -i} } $ \n",
    "$ \\newcommand{\\Tdg}{ \\mymatrix{rr}{1 & 0 \\\\ 0 & e^{-i \\frac{pi}{4}}} } $\n"
   ]
  },
  {
   "cell_type": "markdown",
   "metadata": {},
   "source": [
    "<h1> Quantum operators with complex numbers </h1>\n",
    "\n",
    "We remind you the main property of a quantum operator.\n",
    "\n",
    "<font color=\"blue\"><b>Quantum operator should be a length preserving square matrix.</b></font>\n",
    "\n",
    "If the matrix $U$ is length preserving (also called unitary), the following equality should hold:\n",
    "\n",
    "$U^{\\dagger}U=I$, where:\n",
    "\n",
    "<ul>\n",
    "    <li>$I$ is identity matrix;</li>\n",
    "    <li>$U^{\\dagger}$ is conjugate transpose of the matrix $U$.</li>\n",
    "</ul>"
   ]
  },
  {
   "cell_type": "markdown",
   "metadata": {},
   "source": [
    "<h2> Conjugate transpose of the matrix </h2"
   ]
  },
  {
   "cell_type": "markdown",
   "metadata": {},
   "source": [
    "To obtain $U^{\\dagger}$ from $U$, you need to take $U$ and do the following:\n",
    "<ul>\n",
    "    <li>Exchange the rows and columns, such that for each $i$ and $j$ the entry of $i$th row and $j$th column will appear in $i$th column and $j$th row;</li>\n",
    "    <li>Replace each obtained entry with its conjugate value.</li>\n",
    "</ul>\n",
    "\n",
    "If you are given matrix $U = \\mymatrix{cc}{ a_{11} & a_{12} \\\\ a_{21} & a_{22} }$, then $U^{\\dagger} = \\mymatrix{cc}{ \\overline{a_{11}} & \\overline{a_{21}} \\\\ \\overline{a_{12}} & \\overline{a_{22}} }$, where $\\overline{a+bi} = a-bi$."
   ]
  },
  {
   "cell_type": "markdown",
   "metadata": {},
   "source": [
    "<h3>Example</h3>\n",
    "\n",
    "Let's check Hadamard operator:\n",
    "\n",
    "$$\n",
    "    H = \\hadamard.\n",
    "$$\n",
    "\n",
    "It is easy to see that $H^{\\dagger} = H$. Also you may remember that $HH = I$, which means that the property of length preserving operator is fulfilled for Hadamard operator.\n",
    "\n",
    "Suppose that we have the following quantum state: $\\myvector{ \\frac{1+i}{\\sqrt{3}} \\\\ -\\frac{1}{\\sqrt{3}} }$. The square of the length of this vector is equal to $\\mathopen|\\frac{1+i}{\\sqrt{3}}\\mathclose|^2 + (-\\frac{1}{\\sqrt{3}})^2 = (\\sqrt{\\frac{1}{3} + \\frac{1}{3}})^2 + \\frac{1}{3} = \\frac{2}{3} + \\frac{1}{3} = 1$, so this is a valid quantum state. Let's apply Hadamard to this state and check whether the length is still equal to 1.\n",
    "\n",
    "$$\n",
    "H \\myvector{ \\frac{1+i}{\\sqrt{3}} \\\\ -\\frac{1}{\\sqrt{3}} } =  \\hadamard \\myvector{ \\frac{1+i}{\\sqrt{3}} \\\\ -\\frac{1}{\\sqrt{3}} } = \\myvector{ \\left (\\frac{1+i}{\\sqrt{3}} \\cdot \\frac{1}{\\sqrt{2}} \\right ) + \n",
    "\\left(-\\frac{1}{\\sqrt{3}} \\cdot \\frac{1}{\\sqrt{2}} \\right ) \\\\ \\left ( \\frac{1+i}{\\sqrt{3}} \\cdot \\frac{1}{\\sqrt{2}} \\right ) +\n",
    "\\left ( -\\frac{1}{\\sqrt{3}} \\cdot -\\frac{1}{\\sqrt{2}} \\right ) } = \\myvector{ \\frac{1+i-1}{\\sqrt{6}} \\\\ \\frac{1+i+1}{\\sqrt{6}} } = \\myvector{ \\frac{i}{\\sqrt{6}} \\\\ \\frac{2+i}{\\sqrt{6}} }.\n",
    "$$\n",
    "\n",
    "The length of the vector is $\\mathopen|\\frac{i}{\\sqrt{6}}\\mathclose|^2 + \\mathopen|\\frac{2+i}{\\sqrt{6}}\\mathclose|^2 = (\\sqrt{\\frac{1}{6}})^2 + (\\sqrt{\\frac{4}{6} + \\frac{1}{6}})^2 = \\frac{1}{6} + \\frac{5}{6} = 1$."
   ]
  },
  {
   "cell_type": "markdown",
   "metadata": {},
   "source": [
    "Now we will check the most basic quantum operator with complex values. We know the X and Z operators, and curious people might ask, where is the remaining coordinate - $Y$ operator. Now we are ready to check the $Y$ operator:\n",
    "\n",
    "$$\n",
    "    Y = \\Y.\n",
    "$$"
   ]
  },
  {
   "cell_type": "markdown",
   "metadata": {},
   "source": [
    "<h3> Task 1 </h3>\n",
    "\n",
    "Verify that $Y^{\\dagger} = Y$ and that $YY = I$.\n",
    "\n"
   ]
  },
  {
   "cell_type": "markdown",
   "metadata": {},
   "source": [
    "<a href=\"C03_Quantum_Operators_With_Complex_Numbers_Solutions.ipynb#task1\">click for our solution</a>"
   ]
  },
  {
   "cell_type": "markdown",
   "metadata": {},
   "source": [
    "$Y$ operator is similar to $X$ operator, but now we do not only exchange the values of the two basis states, but also multiply them by some imaginary number. Let's check this operator on the previously checked quantum state: $\\myvector{ \\frac{1+i}{\\sqrt{3}} \\\\ -\\frac{1}{\\sqrt{3}} }$.\n",
    "\n",
    "$$\n",
    "Y \\myvector{ \\frac{1+i}{\\sqrt{3}} \\\\ -\\frac{1}{\\sqrt{3}} } = \\Y \\myvector{ \\frac{1+i}{\\sqrt{3}} \\\\ -\\frac{1}{\\sqrt{3}} } = \\myvector{ -\\frac{-i}{\\sqrt{3}} \\\\ \\frac{i+i^2}{\\sqrt{3}} } = \\myvector{ \\frac{i}{\\sqrt{3}} \\\\ \\frac{-1+i}{\\sqrt{3}} }.\n",
    "$$"
   ]
  },
  {
   "cell_type": "markdown",
   "metadata": {},
   "source": [
    "Now we will check one more quantum operator with complex numbers, which is not one of the of basic gates provided in Qiskit:\n",
    "\n",
    "$$\n",
    "\\mymatrix{cc}{ \\frac{1+i}{2} & \\frac{1-i}{2} \\\\ \\frac{1-i}{2} & \\frac{1+i}{2} }.\n",
    "$$"
   ]
  },
  {
   "cell_type": "markdown",
   "metadata": {},
   "source": [
    "<h3> Task 2</h3>\n",
    "\n",
    "Randomly create a 2-dimensional quantum state, where both amplitudes are complex numbers (you can use your solution from previous notebook, Task 3). After that apply the mentioned operator to the generated state and verify that the resulting state is a valid quantum state.\n",
    "\n",
    "<b>Repeat several times:</b>\n",
    "<ul>\n",
    "    <li> Randomly pick a quantum state. </li>\n",
    "    <li> Apply the mentioned operator to the state. </li>\n",
    "    <li> Check whether the resulting quantum state is valid. </li>"
   ]
  },
  {
   "cell_type": "code",
   "execution_count": 3,
   "metadata": {},
   "outputs": [],
   "source": [
    "# %load random_complex_quantum_state.py\n",
    "from random import randrange\n",
    "def random_complex_quantum_state():\n",
    "    # quantum state    \n",
    "    quantum_state=[0,0]\n",
    "    length_square = 0\n",
    "    while length_square == 0:\n",
    "        first_entry_real = randrange(-100,101)\n",
    "        first_entry_imag = randrange(-100,101)\n",
    "        second_entry_real = randrange(-100,101)\n",
    "        second_entry_imag = randrange(-100,101)\n",
    "        length_square = first_entry_real**2+first_entry_imag**2+second_entry_real**2+second_entry_imag**2\n",
    "    first_entry_real = first_entry_real / length_square**0.5\n",
    "    first_entry_imag = first_entry_imag / length_square**0.5\n",
    "    second_entry_real = second_entry_real / length_square**0.5\n",
    "    second_entry_imag = second_entry_imag / length_square**0.5\n",
    "    quantum_state[0] = complex(first_entry_real, first_entry_imag)\n",
    "    quantum_state[1] = complex(second_entry_real, second_entry_imag)\n",
    "    return quantum_state"
   ]
  },
  {
   "cell_type": "code",
   "execution_count": 6,
   "metadata": {},
   "outputs": [],
   "source": [
    "# %load is_quantum_state.py\n",
    "def is_quantum_state(quantum_state):\n",
    "    length_square = 0\n",
    "    for i in range(len(quantum_state)):\n",
    "        length_square += abs(quantum_state[i])**2\n",
    "    print(\"summation of entry squares is\",length_square)\n",
    "    if (length_square - 1)**2 < 0.00000001: return True \n",
    "    return False\n"
   ]
  },
  {
   "cell_type": "code",
   "execution_count": 7,
   "metadata": {},
   "outputs": [
    {
     "name": "stdout",
     "output_type": "stream",
     "text": [
      "[(0.637583171839584-0.5533740736720918j), (0.38495587733710734-0.3729260061703227j)]\n",
      "summation of entry squares is 0.9999999999999996\n",
      "Is it valid? True\n",
      "[(-0.0835056691183089+0.1983259641559837j), (0.9603151948605525-0.17744954687640643j)]\n",
      "summation of entry squares is 0.9999999999999998\n",
      "Is it valid? True\n",
      "[(-0.2930153686642216-0.11808082020796995j), (0.9402731979523531+0.1268275476307825j)]\n",
      "summation of entry squares is 0.9999999999999999\n",
      "Is it valid? True\n",
      "[(-0.14839381856600709-0.13093572226412392j), (-0.23568430007542307+0.9514662484526338j)]\n",
      "summation of entry squares is 1.0\n",
      "Is it valid? True\n",
      "[(-0.7375577376104279-0.3214995266506993j), (-0.4727934215451461+0.35932300037431103j)]\n",
      "summation of entry squares is 0.9999999999999997\n",
      "Is it valid? True\n",
      "[(-0.9462023064761979+0j), (-0.2945724161671182-0.13389655280323554j)]\n",
      "summation of entry squares is 1.0000000000000002\n",
      "Is it valid? True\n",
      "[(-0.3930214362945619+0.16843775841195502j), (0.8047581790793408+0.411736742784779j)]\n",
      "summation of entry squares is 1.0\n",
      "Is it valid? True\n",
      "[(-0.1181191711103754-0.2787612438204858j), (-0.1559173058656954+0.9402286020385876j)]\n",
      "summation of entry squares is 1.0000000000000002\n",
      "Is it valid? True\n",
      "[(-0.1508031499054932-0.31748031559051215j), (-0.2936692919212237-0.8889448836534339j)]\n",
      "summation of entry squares is 0.9999999999999999\n",
      "Is it valid? True\n",
      "[(0.30843377640454533+0.9409182292847522j), (0.08198872537336016+0.11322252551559259j)]\n",
      "summation of entry squares is 1.0\n",
      "Is it valid? True\n"
     ]
    }
   ],
   "source": [
    "for i in range(10):\n",
    "    initial_state = random_complex_quantum_state()\n",
    "    new_state = [0,0]\n",
    "    new_state[0] = initial_state[0] * complex(1/2,1/2) + initial_state[1] * complex(1/2,-1/2)\n",
    "    new_state[1] = initial_state[0] * complex(1/2,-1/2) + initial_state[1] * complex(1/2,1/2)\n",
    "    print(new_state)\n",
    "    print(\"Is it valid?\",is_quantum_state(new_state))"
   ]
  },
  {
   "cell_type": "markdown",
   "metadata": {},
   "source": [
    "<a href=\"C03_Quantum_Operators_With_Complex_Numbers_Solutions.ipynb#task2\">click for our solution</a>"
   ]
  },
  {
   "cell_type": "markdown",
   "metadata": {},
   "source": [
    "<h3> Task 3</h3>\n",
    "\n",
    "Repeat Task 2, but with Hadamard operator. Note that you should load the necessary functions if you did not complete Task 2."
   ]
  },
  {
   "cell_type": "code",
   "execution_count": 8,
   "metadata": {},
   "outputs": [
    {
     "name": "stdout",
     "output_type": "stream",
     "text": [
      "[(0.7710206716758533-0.005841065694514036j), (-0.011682131389028183+0.6366761607020304j)]\n",
      "summation of entry squares is 0.9999999999999999\n",
      "Is it valid? True\n",
      "[(-0.23771651088061146-0.07923883696020384j), (0.9081989774669517+0.33524123329317007j)]\n",
      "summation of entry squares is 0.9999999999999998\n",
      "Is it valid? True\n",
      "[(-0.3685770701003707-0.2866710545225105j), (-0.6552481246228812-0.593818612939486j)]\n",
      "summation of entry squares is 0.9999999999999998\n",
      "Is it valid? True\n",
      "[(0.16648121989663583-0.2867176564886506j), (-0.7491654895348614-0.5734353129773013j)]\n",
      "summation of entry squares is 0.9999999999999998\n",
      "Is it valid? True\n",
      "[(-0.45399627386325797-0.3681050869161552j), (-0.2822138999690523+0.7607505129600539j)]\n",
      "summation of entry squares is 0.9999999999999998\n",
      "Is it valid? True\n",
      "[(-0.7661252704658932-0.6185231541376017j), (0.1335447719160731+0.1124587552977458j)]\n",
      "summation of entry squares is 0.9999999999999996\n",
      "Is it valid? True\n",
      "[(-0.11769587188968891-0.03209887415173335j), (0.19259324491040006+0.9736658492692447j)]\n",
      "summation of entry squares is 0.9999999999999998\n",
      "Is it valid? True\n",
      "[(0.9477448445285879+0.08324785796534895j), (0.3073767063335961-0.01921104414584976j)]\n",
      "summation of entry squares is 0.9999999999999996\n",
      "Is it valid? True\n",
      "[(-0.2171901627678522+0.8409157584088638j), (-0.4956390893933038+0.005568978532509039j)]\n",
      "summation of entry squares is 0.9999999999999997\n",
      "Is it valid? True\n",
      "[(-0.6236786739615617-0.5383331712089271j), (-0.24290643091134512-0.5120730165158086j)]\n",
      "summation of entry squares is 0.9999999999999998\n",
      "Is it valid? True\n"
     ]
    }
   ],
   "source": [
    "for i in range(10):\n",
    "    initial_state = random_complex_quantum_state()\n",
    "    new_state = [0,0]\n",
    "    new_state[0] = initial_state[0] * (1/(2**0.5)) + initial_state[1] * (1/(2**0.5))\n",
    "    new_state[1] = initial_state[0] * (1/(2**0.5)) + initial_state[1] * (-1/(2**0.5))\n",
    "    print(new_state)\n",
    "    print(\"Is it valid?\",is_quantum_state(new_state))"
   ]
  },
  {
   "cell_type": "markdown",
   "metadata": {},
   "source": [
    "<a href=\"C03_Quantum_Operators_With_Complex_Numbers_Solutions.ipynb#task3\">click for our solution</a>"
   ]
  },
  {
   "cell_type": "markdown",
   "metadata": {},
   "source": [
    "<h3> Task 4</h3>\n",
    "\n",
    "Repeat Task 2 with the following quantum operators. Note that you should load the necessary functions if you did not complete Task 2.\n",
    "\n",
    "$$\n",
    "\\S \\mbox{ and } \\T.\n",
    "$$"
   ]
  },
  {
   "cell_type": "code",
   "execution_count": 10,
   "metadata": {},
   "outputs": [
    {
     "name": "stdout",
     "output_type": "stream",
     "text": [
      "First operator:\n",
      "[(0.4837700750773397+0.28089875327071334j), (-0.6944441400303747+0.4525591024917049j)]\n",
      "summation of entry squares is 1.0000000000000002\n",
      "Is it valid? True\n",
      "[(-0.4644014163105172+0.7046090454366467j), (0.3282837598057104-0.42436681145616223j)]\n",
      "summation of entry squares is 1.0\n",
      "Is it valid? True\n",
      "[(-0.2652985823973935+0.6158717091368064j), (-0.31267332925407093+0.6727214053648193j)]\n",
      "summation of entry squares is 0.9999999999999998\n",
      "Is it valid? True\n",
      "[(-0.9191267078371632+0.08894774591972547j), (0.3162586521590239-0.21742782335932892j)]\n",
      "summation of entry squares is 0.9999999999999999\n",
      "Is it valid? True\n",
      "[(0.28000279228553565-0.6631645080446897j), (-0.5526370900372414+0.4200041884283035j)]\n",
      "summation of entry squares is 1.0\n",
      "Is it valid? True\n",
      "[(-0.3178145931272756-0.4270633595147766j), (-0.7846047767829617-0.3178145931272756j)]\n",
      "summation of entry squares is 1.0\n",
      "Is it valid? True\n",
      "[(-0.9172320970807658-0.1595186255792636j), (-0.30574403236025527+0.19939828197407952j)]\n",
      "summation of entry squares is 1.0\n",
      "Is it valid? True\n",
      "[(-0.6563750051906044-0.5251000041524835j), (0.39382500311436264+0.3719458362746758j)]\n",
      "summation of entry squares is 0.9999999999999999\n",
      "Is it valid? True\n",
      "[(-0.7224372082383821+0.5618956064076305j), (0.035675911517944796+0.4013540045768789j)]\n",
      "summation of entry squares is 0.9999999999999997\n",
      "Is it valid? True\n",
      "[(-0.5835701810162036-0.07481668987387226j), (0.7481668987387226+0.30674842848287626j)]\n",
      "summation of entry squares is 1.0\n",
      "Is it valid? True\n",
      " \n",
      "Second operator:\n",
      "[(0.48349377841522817-0.48349377841522817j), (0.45584230583855173-0.5698028822981897j)]\n",
      "summation of entry squares is 0.9999999999999999\n",
      "Is it valid? True\n",
      "[(0.4052656146039851+0.6967724601963252j), (-0.2865660642682118-0.5178299056074704j)]\n",
      "summation of entry squares is 1.0\n",
      "Is it valid? True\n",
      "[(0.6507052577886774+0.43903005344778234j), (-0.4268565509142265+0.44903091719548505j)]\n",
      "summation of entry squares is 0.9999999999999999\n",
      "Is it valid? True\n",
      "[(-0.17294699708834843-0.6165936417932422j), (0.6858985774385105+0.345607810337234j)]\n",
      "summation of entry squares is 1.0\n",
      "Is it valid? True\n",
      "[(-0.6896963318830808-0.04926402370593434j), (-0.7116277582904491-0.12441044725357497j)]\n",
      "summation of entry squares is 0.9999999999999999\n",
      "Is it valid? True\n",
      "[(0.5624497051399325-0.5624497051399325j), (-0.598706237433493-0.09408240873954887j)]\n",
      "summation of entry squares is 0.9999999999999998\n",
      "Is it valid? True\n",
      "[(-0.7664644538824955+0.23516523016849294j), (-0.018476325439048535-0.5974011891959019j)]\n",
      "summation of entry squares is 0.9999999999999997\n",
      "Is it valid? True\n",
      "[(0.008900940790150795+0.5429573881991985j), (0.33987144194940094-0.7678577021819799j)]\n",
      "summation of entry squares is 1.0\n",
      "Is it valid? True\n",
      "[(-0.6948408728540254+0.21617271599903012j), (-0.3766837979978401+0.5732144752141044j)]\n",
      "summation of entry squares is 1.0\n",
      "Is it valid? True\n",
      "[(0.021856944528574077-0.7322076417072315j), (-0.030910387384345872+0.6800285224556091j)]\n",
      "summation of entry squares is 1.0\n",
      "Is it valid? True\n"
     ]
    }
   ],
   "source": [
    "print('First operator:')\n",
    "for i in range(10):\n",
    "    initial_state = random_complex_quantum_state()\n",
    "    new_state = [0,0]\n",
    "    new_state[0] = initial_state[0] * 1 + initial_state[1] * 0\n",
    "    new_state[1] = initial_state[0] * 0 + initial_state[1] * complex(0,1)\n",
    "    print(new_state)\n",
    "    print(\"Is it valid?\",is_quantum_state(new_state))\n",
    "\n",
    "print(\" \")\n",
    "\n",
    "print('Second operator:')\n",
    "for i in range(10):\n",
    "    initial_state = random_complex_quantum_state()\n",
    "    new_state = [0,0]\n",
    "    new_state[0] = initial_state[0] * 1 + initial_state[1] * 0\n",
    "    new_state[1] = initial_state[0] * 0 + initial_state[1] * complex(1/(2**0.5),1/(2**0.5))\n",
    "    print(new_state)\n",
    "    print(\"Is it valid?\",is_quantum_state(new_state))"
   ]
  },
  {
   "cell_type": "markdown",
   "metadata": {},
   "source": [
    "<a href=\"C03_Quantum_Operators_With_Complex_Numbers_Solutions.ipynb#task4\">click for our solution</a>"
   ]
  }
 ],
 "metadata": {
  "kernelspec": {
   "display_name": "Python 3",
   "language": "python",
   "name": "python3"
  },
  "language_info": {
   "codemirror_mode": {
    "name": "ipython",
    "version": 3
   },
   "file_extension": ".py",
   "mimetype": "text/x-python",
   "name": "python",
   "nbconvert_exporter": "python",
   "pygments_lexer": "ipython3",
   "version": "3.8.8"
  }
 },
 "nbformat": 4,
 "nbformat_minor": 2
}
